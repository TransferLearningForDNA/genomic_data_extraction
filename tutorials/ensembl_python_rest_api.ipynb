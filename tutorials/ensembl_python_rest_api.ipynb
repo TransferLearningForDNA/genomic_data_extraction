{
  "cells": [
    {
      "cell_type": "markdown",
      "metadata": {
        "id": "CgHb92kfVryX"
      },
      "source": [
        "# Using Emsembl-REST"
      ]
    },
    {
      "cell_type": "markdown",
      "metadata": {
        "id": "Vt5KaGiiYbqY"
      },
      "source": [
        "## Import statements"
      ]
    },
    {
      "cell_type": "code",
      "execution_count": null,
      "metadata": {
        "colab": {
          "base_uri": "https://localhost:8080/"
        },
        "id": "2B0_kEtcVm4A",
        "outputId": "c58f1b25-0590-4aa8-a073-03af45df908b"
      },
      "outputs": [],
      "source": [
        "pip install ensembl_rest"
      ]
    },
    {
      "cell_type": "code",
      "execution_count": 2,
      "metadata": {
        "id": "vz8EnuT1V0Dg"
      },
      "outputs": [],
      "source": [
        "import ensembl_rest\n",
        "import pandas as pd\n",
        "import requests\n",
        "import csv\n"
      ]
    },
    {
      "cell_type": "code",
      "execution_count": null,
      "metadata": {
        "id": "HN2PsiHeWSal"
      },
      "outputs": [],
      "source": [
        "help(ensembl_rest)"
      ]
    },
    {
      "cell_type": "markdown",
      "metadata": {
        "id": "yUFf7YexYeFG"
      },
      "source": [
        "## Getting data"
      ]
    },
    {
      "cell_type": "code",
      "execution_count": 4,
      "metadata": {},
      "outputs": [],
      "source": [
        "def read_gene_ids_from_file(file_path):\n",
        "    try:\n",
        "        with open(file_path, 'r') as file:\n",
        "            # Skip the first line\n",
        "            next(file)\n",
        "            \n",
        "            # Read gene IDs from the remaining lines\n",
        "            gene_ids = [line.strip() for line in file]\n",
        "\n",
        "        return gene_ids\n",
        "    except FileNotFoundError:\n",
        "        print(f\"Error: File '{file_path}' not found.\")\n",
        "        return []\n",
        "    except Exception as e:\n",
        "        print(f\"Error: {str(e)}\")\n",
        "        return []\n"
      ]
    },
    {
      "cell_type": "code",
      "execution_count": 5,
      "metadata": {},
      "outputs": [],
      "source": [
        "# Function to get sequence\n",
        "def get_sequence(transcript_id, seq_type=\"cds\"):\n",
        "    return ensembl_rest.sequence_id(id=transcript_id, type=seq_type)[\"seq\"]\n",
        "\n",
        "def get_promoter_terminator(transcript_id, promoter_length=1000, terminator_length=500):\n",
        "\n",
        "    sequence = ensembl_rest.sequence_id(id=gene_id, type=\"cdna\", expand_5prime=promoter_length, expand_3prime=terminator_length)[\"seq\"]\n",
        "    \n",
        "    # Use expand_5prime and expand_3prime to get promoter and terminator sequences\n",
        "    promoter_sequence = sequence[:promoter_length]\n",
        "    terminator_sequence = sequence[-terminator_length:]\n",
        "    \n",
        "    return promoter_sequence, terminator_sequence\n",
        "\n",
        "def extract_utr_information(data):\n",
        "    utr_data = data.get('UTR', [])\n",
        "    \n",
        "    utr5_list = []\n",
        "    utr3_list = []\n",
        "\n",
        "    for utr_entry in utr_data:\n",
        "        utr_type = utr_entry.get('type', '')\n",
        "        utr_start = utr_entry.get('start', None)\n",
        "        utr_end = utr_entry.get('end', None)\n",
        "\n",
        "        if utr_type and utr_start is not None and utr_end is not None:\n",
        "            if utr_type == 'five_prime_utr':\n",
        "                utr5_list.append((utr_start, utr_end))\n",
        "            elif utr_type == 'three_prime_utr':\n",
        "                utr3_list.append((utr_start, utr_end))\n",
        "\n",
        "    chromosome = utr_entry['seq_region_name'] if utr_data else None\n",
        "    strand = data.get('strand', None)\n",
        "\n",
        "    return utr5_list, utr3_list, chromosome, strand\n",
        "\n",
        "def get_utr_sequence(chromosome, strand, start, end, species=\"human\"):\n",
        "    \n",
        "    return ensembl_rest.sequence_region(region=f\"{chromosome}:{start}..{end}:{strand}\", species=species)[\"seq\"]\n",
        "\n",
        "def get_full_utr_sequence(list_utr_coordinates, chromosome, strand):\n",
        "    \n",
        "    concatenated_sequence = \"\"\n",
        "\n",
        "    for start, end in list_utr_coordinates:\n",
        "        sequence = get_utr_sequence(chromosome, strand, start, end)\n",
        "        concatenated_sequence += sequence\n",
        "\n",
        "    return concatenated_sequence"
      ]
    },
    {
      "cell_type": "code",
      "execution_count": 6,
      "metadata": {
        "colab": {
          "base_uri": "https://localhost:8080/"
        },
        "id": "ohzGKTWKYg4R",
        "outputId": "dfcbaf2b-901b-48a6-d328-e7d9b62e20fa"
      },
      "outputs": [
        {
          "name": "stdout",
          "output_type": "stream",
          "text": [
            "Extracting data for gene ID : ENSG00000000003\n",
            "Extracting data for gene ID : ENSG00000000005\n",
            "Extracting data for gene ID : ENSG00000000419\n",
            "Extracting data for gene ID : ENSG00000000457\n",
            "Extracting data for gene ID : ENSG00000000460\n",
            "Data extraction complete.\n"
          ]
        }
      ],
      "source": [
        "# Define the gene IDs you are interested in\n",
        "# gene_ids = [\"ENSG00000000003\", \"ENSG00000000005\", \"ENSG00000000419\"]  # Replace with your gene IDs\n",
        "file_path = \"homo_sapiens_genes_small.txt\"\n",
        "gene_ids = read_gene_ids_from_file(file_path)\n",
        "\n",
        "# Initialize a CSV writer\n",
        "csv_file = open(\"ensembl_data_homo_sapiens.csv\", \"w\", newline=\"\")\n",
        "csv_writer = csv.writer(csv_file)\n",
        "\n",
        "# Write the header to the CSV file\n",
        "csv_writer.writerow([\"ensembl_gene_id\", \"transcript_id\", \"promoter\", \"utr5\", \"cds\", \"utr3\", \"terminator\"])\n",
        "\n",
        "\n",
        "# Loop through each gene ID and retrieve the data\n",
        "for gene_id in gene_ids:\n",
        "    print(f\"Extracting data for gene ID : {gene_id}\")\n",
        "    gene_data = ensembl_rest.lookup(species='homo sapiens', id=gene_id)\n",
        "    \n",
        "    # Get transcript ID\n",
        "    transcript_id = gene_data[\"canonical_transcript\"].split(\".\")[0]\n",
        "\n",
        "    # Retrieve promoter, CDS, and terminator sequences\n",
        "    cds_sequence = get_sequence(transcript_id, \"cds\")\n",
        "    promoter_sequence, terminator_sequence = get_promoter_terminator(transcript_id)\n",
        "    \n",
        "    # Retrieve UTR sequences\n",
        "    transcript_data = ensembl_rest.lookup(id=transcript_id, params={'expand':True,'utr':True})\n",
        "    utr5_coord_list, utr3_coord_list, chromosome, strand = extract_utr_information(transcript_data)\n",
        "    utr5_sequence = get_full_utr_sequence(utr5_coord_list, chromosome, strand)\n",
        "    utr3_sequence = get_full_utr_sequence(utr3_coord_list, chromosome, strand)\n",
        "\n",
        "    # Write the row to the CSV file\n",
        "    csv_writer.writerow([gene_id, transcript_id, promoter_sequence, utr5_sequence, cds_sequence, utr3_sequence, terminator_sequence])\n",
        "\n",
        "# Close the CSV file\n",
        "csv_file.close()\n",
        "\n",
        "print(\"Data extraction complete.\")\n"
      ]
    },
    {
      "cell_type": "code",
      "execution_count": 7,
      "metadata": {},
      "outputs": [
        {
          "data": {
            "text/html": [
              "<div>\n",
              "<style scoped>\n",
              "    .dataframe tbody tr th:only-of-type {\n",
              "        vertical-align: middle;\n",
              "    }\n",
              "\n",
              "    .dataframe tbody tr th {\n",
              "        vertical-align: top;\n",
              "    }\n",
              "\n",
              "    .dataframe thead th {\n",
              "        text-align: right;\n",
              "    }\n",
              "</style>\n",
              "<table border=\"1\" class=\"dataframe\">\n",
              "  <thead>\n",
              "    <tr style=\"text-align: right;\">\n",
              "      <th></th>\n",
              "      <th>ensembl_gene_id</th>\n",
              "      <th>transcript_id</th>\n",
              "      <th>promoter</th>\n",
              "      <th>utr5</th>\n",
              "      <th>cds</th>\n",
              "      <th>utr3</th>\n",
              "      <th>terminator</th>\n",
              "    </tr>\n",
              "  </thead>\n",
              "  <tbody>\n",
              "    <tr>\n",
              "      <th>0</th>\n",
              "      <td>ENSG00000000003</td>\n",
              "      <td>ENST00000373020</td>\n",
              "      <td>AGCTCTTCAGTAGTTTCTGAACATCTAGACGGTAGGATGTAGAATA...</td>\n",
              "      <td>AGTTGTGGACGCTCGTAAGTTTTCGGCAGTTTCCGGGGAGACTCGG...</td>\n",
              "      <td>AGTTGTGGACGCTCGTAAGTTTTCGGCAGTTTCCGGGGAGACTCGG...</td>\n",
              "      <td>CCCAATGTATCTGTGGGCCTATTCCTCTCTACCTTTAAGGACATTT...</td>\n",
              "      <td>AGGAAACATTTCACCTAATGATAACTGGTACAAAGGAAAGTTCACG...</td>\n",
              "    </tr>\n",
              "    <tr>\n",
              "      <th>1</th>\n",
              "      <td>ENSG00000000005</td>\n",
              "      <td>ENST00000373031</td>\n",
              "      <td>AGCCGACTCACTTGCAACTCCACCTCAGCAGTGGTCTCTCAGTCCT...</td>\n",
              "      <td>AGCCGACTCACTTGCAACTCCACCTCAGCAGTGGTCTCTCAGTCCT...</td>\n",
              "      <td>AGCCGACTCACTTGCAACTCCACCTCAGCAGTGGTCTCTCAGTCCT...</td>\n",
              "      <td>TAGGAGGTTTGAGCTCAAATGCTTAAACTGCTGGCAACATATAATA...</td>\n",
              "      <td>AGGAGCTTAATTTCTCACAAGCCCCCAACTCATACAGTCTTCTAGT...</td>\n",
              "    </tr>\n",
              "    <tr>\n",
              "      <th>2</th>\n",
              "      <td>ENSG00000000419</td>\n",
              "      <td>ENST00000371588</td>\n",
              "      <td>ACTGCGCTAGTGGACAGCCGAGCCCACCGCAGCCCACGATTAGCAC...</td>\n",
              "      <td>AGTTCCGCC</td>\n",
              "      <td>AGTTCCGCCATGGCCTCCTTGGAAGTCAGTCGTAGTCCTCGCAGGT...</td>\n",
              "      <td>AAGAAAGATACTCATTTATAGTTACGTTCATTTCAGGTTAAACATG...</td>\n",
              "      <td>ATTTTATACTTACTTTAAGGACCTCTGTTGTAGGACTAATCCTATT...</td>\n",
              "    </tr>\n",
              "    <tr>\n",
              "      <th>3</th>\n",
              "      <td>ENSG00000000457</td>\n",
              "      <td>ENST00000367771</td>\n",
              "      <td>GCACCTCTACTGTTTGCTACAAGTGGCCAGCAGCCATTTTGGATTT...</td>\n",
              "      <td>GTAGTGGCCACAGCCTTACAGGCAGGCAGGGGTGGTTGGTGTCAAC...</td>\n",
              "      <td>GTAGTGGCCACAGCCTTACAGGCAGGCAGGGGTGGTTGGTGTCAAC...</td>\n",
              "      <td>CAATAGATGTGAGTTAAACTTTAGGAAAAAGGATTCCCTTTTTTTA...</td>\n",
              "      <td>AACTCATGATTCCTTCAGGGTCCCTAAGGATAATACAAAATTAACT...</td>\n",
              "    </tr>\n",
              "    <tr>\n",
              "      <th>4</th>\n",
              "      <td>ENSG00000000460</td>\n",
              "      <td>ENST00000359326</td>\n",
              "      <td>AACCCGCTCGGGTCCCCTTCCACACTGTGGAAGCTTTGTTCTTTCG...</td>\n",
              "      <td>ACTGCGAGTTTCCGGTCTGGGCTTTGGCGGGTCTGGTTTGAAGCTC...</td>\n",
              "      <td>ACTGCGAGTTTCCGGTCTGGGCTTTGGCGGGTCTGGTTTGAAGCTC...</td>\n",
              "      <td>AACTTATCACTAGGCAGAACTGGGTTTGATGCTTTGTCAACTGAAA...</td>\n",
              "      <td>TGGATAATGAGCTCCTGGGATGGGAAAAGCAGGCCACTTTGGGGTT...</td>\n",
              "    </tr>\n",
              "  </tbody>\n",
              "</table>\n",
              "</div>"
            ],
            "text/plain": [
              "   ensembl_gene_id    transcript_id  \\\n",
              "0  ENSG00000000003  ENST00000373020   \n",
              "1  ENSG00000000005  ENST00000373031   \n",
              "2  ENSG00000000419  ENST00000371588   \n",
              "3  ENSG00000000457  ENST00000367771   \n",
              "4  ENSG00000000460  ENST00000359326   \n",
              "\n",
              "                                            promoter  \\\n",
              "0  AGCTCTTCAGTAGTTTCTGAACATCTAGACGGTAGGATGTAGAATA...   \n",
              "1  AGCCGACTCACTTGCAACTCCACCTCAGCAGTGGTCTCTCAGTCCT...   \n",
              "2  ACTGCGCTAGTGGACAGCCGAGCCCACCGCAGCCCACGATTAGCAC...   \n",
              "3  GCACCTCTACTGTTTGCTACAAGTGGCCAGCAGCCATTTTGGATTT...   \n",
              "4  AACCCGCTCGGGTCCCCTTCCACACTGTGGAAGCTTTGTTCTTTCG...   \n",
              "\n",
              "                                                utr5  \\\n",
              "0  AGTTGTGGACGCTCGTAAGTTTTCGGCAGTTTCCGGGGAGACTCGG...   \n",
              "1  AGCCGACTCACTTGCAACTCCACCTCAGCAGTGGTCTCTCAGTCCT...   \n",
              "2                                          AGTTCCGCC   \n",
              "3  GTAGTGGCCACAGCCTTACAGGCAGGCAGGGGTGGTTGGTGTCAAC...   \n",
              "4  ACTGCGAGTTTCCGGTCTGGGCTTTGGCGGGTCTGGTTTGAAGCTC...   \n",
              "\n",
              "                                                 cds  \\\n",
              "0  AGTTGTGGACGCTCGTAAGTTTTCGGCAGTTTCCGGGGAGACTCGG...   \n",
              "1  AGCCGACTCACTTGCAACTCCACCTCAGCAGTGGTCTCTCAGTCCT...   \n",
              "2  AGTTCCGCCATGGCCTCCTTGGAAGTCAGTCGTAGTCCTCGCAGGT...   \n",
              "3  GTAGTGGCCACAGCCTTACAGGCAGGCAGGGGTGGTTGGTGTCAAC...   \n",
              "4  ACTGCGAGTTTCCGGTCTGGGCTTTGGCGGGTCTGGTTTGAAGCTC...   \n",
              "\n",
              "                                                utr3  \\\n",
              "0  CCCAATGTATCTGTGGGCCTATTCCTCTCTACCTTTAAGGACATTT...   \n",
              "1  TAGGAGGTTTGAGCTCAAATGCTTAAACTGCTGGCAACATATAATA...   \n",
              "2  AAGAAAGATACTCATTTATAGTTACGTTCATTTCAGGTTAAACATG...   \n",
              "3  CAATAGATGTGAGTTAAACTTTAGGAAAAAGGATTCCCTTTTTTTA...   \n",
              "4  AACTTATCACTAGGCAGAACTGGGTTTGATGCTTTGTCAACTGAAA...   \n",
              "\n",
              "                                          terminator  \n",
              "0  AGGAAACATTTCACCTAATGATAACTGGTACAAAGGAAAGTTCACG...  \n",
              "1  AGGAGCTTAATTTCTCACAAGCCCCCAACTCATACAGTCTTCTAGT...  \n",
              "2  ATTTTATACTTACTTTAAGGACCTCTGTTGTAGGACTAATCCTATT...  \n",
              "3  AACTCATGATTCCTTCAGGGTCCCTAAGGATAATACAAAATTAACT...  \n",
              "4  TGGATAATGAGCTCCTGGGATGGGAAAAGCAGGCCACTTTGGGGTT...  "
            ]
          },
          "execution_count": 7,
          "metadata": {},
          "output_type": "execute_result"
        }
      ],
      "source": [
        "genetic_data = pd.read_csv(\"ensembl_data_homo_sapiens.csv\")\n",
        "genetic_data"
      ]
    }
  ],
  "metadata": {
    "colab": {
      "provenance": []
    },
    "kernelspec": {
      "display_name": "Python 3",
      "name": "python3"
    },
    "language_info": {
      "codemirror_mode": {
        "name": "ipython",
        "version": 3
      },
      "file_extension": ".py",
      "mimetype": "text/x-python",
      "name": "python",
      "nbconvert_exporter": "python",
      "pygments_lexer": "ipython3",
      "version": "3.10.8"
    }
  },
  "nbformat": 4,
  "nbformat_minor": 0
}
