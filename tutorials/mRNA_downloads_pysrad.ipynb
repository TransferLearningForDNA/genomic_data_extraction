{
  "nbformat": 4,
  "nbformat_minor": 0,
  "metadata": {
    "colab": {
      "provenance": []
    },
    "kernelspec": {
      "name": "python3",
      "display_name": "Python 3"
    }
  },
  "cells": [
    {
      "cell_type": "markdown",
      "source": [
        "# Using Pysradb\n",
        "Install & import statements (for required libraries):\n",
        "\n",
        "Severl libraries were investigated and attempted for use, e.g. SQL querying on Wthena, but ultimately I have chosen to go ahead with Pysradb as it seems to offer the most aligned funtionality with our goals.\n"
      ],
      "metadata": {
        "id": "YAc-ebZ5cb7_"
      }
    },
    {
      "cell_type": "code",
      "metadata": {
        "id": "ouE53T41E-0b",
        "outputId": "ce06debd-d329-45ac-9e03-1d98cebbc3dd",
        "colab": {
          "base_uri": "https://localhost:8080/"
        }
      },
      "source": [
        "!pip install git+https://github.com/saketkc/pysradb\n",
        "!pip install joblib pandas biopython"
      ],
      "execution_count": 5,
      "outputs": [
        {
          "output_type": "stream",
          "name": "stdout",
          "text": [
            "Collecting git+https://github.com/saketkc/pysradb\n",
            "  Cloning https://github.com/saketkc/pysradb to /tmp/pip-req-build-40x420ln\n",
            "  Running command git clone --filter=blob:none --quiet https://github.com/saketkc/pysradb /tmp/pip-req-build-40x420ln\n",
            "  Resolved https://github.com/saketkc/pysradb to commit 99d0ef76f85f64659388c219e639c47324e7f213\n",
            "  Preparing metadata (setup.py) ... \u001b[?25l\u001b[?25hdone\n",
            "Requirement already satisfied: lxml>=4.6.3 in /usr/local/lib/python3.10/dist-packages (from pysradb==2.2.0) (4.9.4)\n",
            "Requirement already satisfied: pandas>=1.3.2 in /usr/local/lib/python3.10/dist-packages (from pysradb==2.2.0) (1.5.3)\n",
            "Requirement already satisfied: requests>=2.26.0 in /usr/local/lib/python3.10/dist-packages (from pysradb==2.2.0) (2.31.0)\n",
            "Requirement already satisfied: requests-ftp>=0.3.1 in /usr/local/lib/python3.10/dist-packages (from pysradb==2.2.0) (0.3.1)\n",
            "Requirement already satisfied: tqdm>=4.62.1 in /usr/local/lib/python3.10/dist-packages (from pysradb==2.2.0) (4.66.1)\n",
            "Requirement already satisfied: xmltodict>=0.12.0 in /usr/local/lib/python3.10/dist-packages (from pysradb==2.2.0) (0.13.0)\n",
            "Requirement already satisfied: python-dateutil>=2.8.1 in /usr/local/lib/python3.10/dist-packages (from pandas>=1.3.2->pysradb==2.2.0) (2.8.2)\n",
            "Requirement already satisfied: pytz>=2020.1 in /usr/local/lib/python3.10/dist-packages (from pandas>=1.3.2->pysradb==2.2.0) (2023.3.post1)\n",
            "Requirement already satisfied: numpy>=1.21.0 in /usr/local/lib/python3.10/dist-packages (from pandas>=1.3.2->pysradb==2.2.0) (1.23.5)\n",
            "Requirement already satisfied: charset-normalizer<4,>=2 in /usr/local/lib/python3.10/dist-packages (from requests>=2.26.0->pysradb==2.2.0) (3.3.2)\n",
            "Requirement already satisfied: idna<4,>=2.5 in /usr/local/lib/python3.10/dist-packages (from requests>=2.26.0->pysradb==2.2.0) (3.6)\n",
            "Requirement already satisfied: urllib3<3,>=1.21.1 in /usr/local/lib/python3.10/dist-packages (from requests>=2.26.0->pysradb==2.2.0) (2.0.7)\n",
            "Requirement already satisfied: certifi>=2017.4.17 in /usr/local/lib/python3.10/dist-packages (from requests>=2.26.0->pysradb==2.2.0) (2023.11.17)\n",
            "Requirement already satisfied: six>=1.5 in /usr/local/lib/python3.10/dist-packages (from python-dateutil>=2.8.1->pandas>=1.3.2->pysradb==2.2.0) (1.16.0)\n",
            "Requirement already satisfied: joblib in /usr/local/lib/python3.10/dist-packages (1.3.2)\n",
            "Requirement already satisfied: pandas in /usr/local/lib/python3.10/dist-packages (1.5.3)\n",
            "Requirement already satisfied: biopython in /usr/local/lib/python3.10/dist-packages (1.83)\n",
            "Requirement already satisfied: python-dateutil>=2.8.1 in /usr/local/lib/python3.10/dist-packages (from pandas) (2.8.2)\n",
            "Requirement already satisfied: pytz>=2020.1 in /usr/local/lib/python3.10/dist-packages (from pandas) (2023.3.post1)\n",
            "Requirement already satisfied: numpy>=1.21.0 in /usr/local/lib/python3.10/dist-packages (from pandas) (1.23.5)\n",
            "Requirement already satisfied: six>=1.5 in /usr/local/lib/python3.10/dist-packages (from python-dateutil>=2.8.1->pandas) (1.16.0)\n"
          ]
        }
      ]
    },
    {
      "cell_type": "code",
      "source": [
        "from pysradb import SRAweb\n",
        "from pysradb.search import SraSearch\n",
        "import pandas as pd\n",
        "from Bio import Entrez"
      ],
      "metadata": {
        "id": "8Sik1sQcaPbQ"
      },
      "execution_count": 6,
      "outputs": []
    },
    {
      "cell_type": "markdown",
      "source": [
        "# Getting data\n",
        "## 1. Context: Understanding the underlying SRA Database querying structure\n",
        "NOTE (Important & confusing): NCBI follows this hiererachy: SRP => SRX => SRR.\n",
        "\n",
        "\n",
        "---\n",
        "*   Each SRP (**project**) has multiple SRX (**experiments**) and each SRX in turn has multiple SRR **(runs**) inside it.\n",
        "\n",
        "\n",
        "*   We need to mimick this hiereachy to access our downloads.\n",
        "\n",
        "\n",
        "*   The reason to do that is simple: in most cases you care about SRX (experiment) the most, and would want to “merge” your SRRs in one way or the other.\n",
        "\n",
        "\n",
        "*   Having this hierearchy ensures that downstream code can handle such cases easily, without worrying about which runs (SRR) need to be merged.\n",
        "[link text](https://)\n",
        "\n",
        "*   Using the experiment accession ids (SRX), we can fetch species metadata. Then we are able to download everything at once.\n",
        "\n",
        "\n",
        "\n",
        "---\n",
        "\n",
        "\n",
        "To get an API key:\n",
        "\"Users can obtain an API key now from the Settings page of their NCBI account (to create an account, visit http://www.ncbi.nlm.nih.gov/account/).\"\n"
      ],
      "metadata": {
        "id": "wMVe9pSGcw5f"
      }
    },
    {
      "cell_type": "markdown",
      "source": [
        "## 2. Returning search results for each species\n",
        "\n",
        "### Step 1: Query NCBI SRA Database\n",
        "*   In 'step 1', we are using SraSearch to search through by the latin species name (organism = species).\n",
        "    *   This is simply because there is NO OPTION to query by taxonomy id. I have had to implement this functionality after, manually, as you see.\n",
        "    *   This will return the overall metadata for each species\n",
        "---\n",
        "\n",
        "*   First, we will try to search the database by using the 'RNA-Seq' strategy, layout=\"paired\" and returning a maximum of 50 results.\n",
        "\n",
        "\n",
        "*   If the'RNA-Seq' search returns fewer than 50 results, we will then search with 'OTHER' strategy. This is because I found on the web that some of the species in focus have their RNA data stored under this strategy type.\n",
        "---\n",
        "*  After this I will combine the two DataFrames returned above, and enclude only entries where the taxonomy id column **exactly** matches our Taxonomy id entered.\n",
        "  *  This is our 'df_filtered' output\n",
        "\n",
        "---\n",
        "\n",
        "### Step 2: Return experiment accession numbers from our Species Dictionary using the above 'query_sra' function\n",
        "*  Here, a new dictionary 'species_srx_map' is created to store a list of returned experiment accession ids (srx_ids) for each species.\n"
      ],
      "metadata": {
        "id": "GT97_xCGx1N8"
      }
    },
    {
      "cell_type": "code",
      "source": [
        "# Put your personal NCBI API email here\n",
        "Entrez.email = \"megan.howard19@imperial.ac.uk\"\n",
        "\n",
        "# Step 0: Specify our species of interest here\n",
        "\n",
        "# Dictionary of species scientific names and their corresponding taxonomy IDs. NOTE: There is a discrepancy here for 'Cyanidioschyzon merolae',\n",
        "# many entries are strain 10D - Taxonomy ID: 280699. These get filtered out in this process. Not sure what we should decide to do / how to handle.\n",
        "species_data = {\n",
        "    'Chlamydomonas reinhardtii': 3055,\n",
        "    'Ostreococcus tauri': 70448,\n",
        "    'Cyanidioschyzon merolae': 45157,\n",
        "    'Homo sapiens': 9606,\n",
        "    'Saccharomyces cerevisiae': 4932\n",
        "}\n",
        "\n",
        "# Step 1: Query NCBI SRA Database -> outputs species metadata\n",
        "def query_sra(species, taxonomy_id):\n",
        "    # First, search with 'RNA-Seq' strategy\n",
        "    try:\n",
        "        sra_search_rna_seq = SraSearch(organism=species, layout=\"paired\", strategy=['RNA-Seq'], return_max=50)\n",
        "        sra_search_rna_seq.search()\n",
        "        df_rna_seq = sra_search_rna_seq.get_df()\n",
        "\n",
        "        # If 'RNA-Seq' results are fewer than 50, search with 'OTHER' strategy\n",
        "        df_other = pd.DataFrame()\n",
        "        if len(df_rna_seq) < 50:\n",
        "            additional_results_needed = 50 - len(df_rna_seq)\n",
        "            sra_search_other = SraSearch(organism=species, layout=\"paired\", strategy=['OTHER'], return_max=additional_results_needed)\n",
        "            sra_search_other.search()\n",
        "            df_other = sra_search_other.get_df()\n",
        "\n",
        "        # Combine the two DataFrames\n",
        "        df_combined = pd.concat([df_rna_seq, df_other], ignore_index=True)\n",
        "        # print(f\"{species} df_combined:\", df_combined.columns)\n",
        "\n",
        "        # Filter these combined dataframes to ensure they match the taxonomy ID\n",
        "        df_filtered = df_combined[df_combined['sample_taxon_id'] == str(taxonomy_id)]\n",
        "\n",
        "        return df_filtered if not df_filtered.empty else None\n",
        "\n",
        "    except Exception as e:\n",
        "        print(f\"Error querying {species}: {e}\")\n",
        "        return None\n",
        "\n",
        "# Step 2: Function to query by Species Dictionary, and return experiment accession numbers\n",
        "def query_and_get_srx_accession_ids(species_data):\n",
        "    # Dictionary to store species names and their SRX IDs\n",
        "    species_srx_map = {}\n",
        "\n",
        "    for species, tax_id in species_data.items():\n",
        "        df = query_sra(species, tax_id)\n",
        "\n",
        "        if df is not None and not df.empty:\n",
        "            srx_ids = df['experiment_accession'].unique()\n",
        "            species_srx_map[species] = srx_ids\n",
        "        else:\n",
        "            print(f\"No results or empty DataFrame for {species}\")\n",
        "\n",
        "    return species_srx_map\n",
        "\n",
        "species_srx_map = query_and_get_srx_accession_ids(species_data)\n",
        "\n",
        "for species, srx_ids in species_srx_map.items():\n",
        "    print(f\"\\n{species}: {', '.join(srx_ids)}\")\n"
      ],
      "metadata": {
        "colab": {
          "base_uri": "https://localhost:8080/"
        },
        "id": "6vpzRpfrUv-v",
        "outputId": "abd43a9a-2f5c-4381-d51e-f114edc2b85d"
      },
      "execution_count": 4,
      "outputs": [
        {
          "output_type": "stream",
          "name": "stderr",
          "text": [
            "100%|██████████| 50/50 [00:01<00:00, 27.65it/s]\n",
            "100%|██████████| 50/50 [00:01<00:00, 31.53it/s]\n",
            "100%|██████████| 50/50 [00:01<00:00, 32.61it/s]\n",
            "100%|██████████| 50/50 [00:01<00:00, 32.15it/s]\n",
            "100%|██████████| 50/50 [00:01<00:00, 30.94it/s]"
          ]
        },
        {
          "output_type": "stream",
          "name": "stdout",
          "text": [
            "\n",
            "Chlamydomonas reinhardtii: DRX506818, DRX506817, DRX506816, DRX506815, DRX506814, DRX506813, DRX506812, DRX506811, DRX506810, DRX506809, DRX506808, DRX506807, DRX506806, DRX506805, DRX506804, DRX506803, DRX506802, DRX506801, DRX506800, DRX506799, DRX506798, DRX506797, DRX506796, DRX506795, DRX506794, DRX506793, DRX506792, DRX506791, DRX506790, DRX506789, DRX506788, DRX506787, DRX506786, DRX506785, DRX506784, DRX506783, DRX496969, DRX496970, SRX22081640, SRX22081639, SRX22081638, SRX22081637, SRX22081634, SRX22081633, SRX21843524, SRX21843523, SRX21843522, SRX21843521, SRX21843520, SRX21843519\n",
            "\n",
            "Ostreococcus tauri: SRX4042713, SRX4042712, SRX4042711, SRX4042710, SRX4042709, SRX4042708, SRX4042707, SRX4042706, SRX4042705, SRX4042704, SRX4042703, SRX4042702, SRX4042701, SRX4042700, SRX4042699, SRX4042698, SRX4042697, SRX4042696, SRX4042695, SRX4042694, SRX4042693, SRX4042692, SRX4042691, SRX4042690, SRX4042689, SRX4042688, SRX4042687, SRX4042686, SRX4042685, SRX4042684, SRX3142181, SRX3142180, SRX3142179, SRX3142178, SRX3142177, SRX3142176, SRX3142175, SRX3142174, SRX3142173, SRX3142172, SRX3142171, SRX3142170, SRX3142169, SRX3142168, SRX3142167, SRX3142166, SRX3142165, SRX3142164, SRX3142163, SRX3142162\n",
            "\n",
            "Cyanidioschyzon merolae: SRX12749781, SRX12749780\n",
            "\n",
            "Homo sapiens: SRX23341646, SRX23341645, SRX23341644, SRX23341643, SRX23341642, SRX23341641, SRX23334571, SRX23334570, SRX23334569, SRX23334568, SRX23334567, SRX23334566, SRX23334565, SRX23334564, SRX23334563, SRX23334562, SRX23334561, SRX23334560, SRX23334559, SRX23334558, SRX23334557, SRX23334556, SRX23334555, SRX23334554, SRX23334553, SRX23334552, SRX23334551, SRX23334550, SRX23334549, SRX23334548, SRX23334547, SRX23334546, SRX23334545, SRX23334544, SRX23334543, SRX23334542, SRX23334541, SRX23334540, SRX23334529, SRX23334518, SRX23334517, SRX23334516, SRX23334515, SRX23334514, SRX23334513, SRX23334512, SRX23334511, SRX23334510, SRX23334509, SRX23334508\n",
            "\n",
            "Saccharomyces cerevisiae: SRX23202400, SRX23202399, SRX23202398, SRX23202397, SRX23202396, SRX23202395, SRX23202394, SRX23202393, SRX23202392, SRX23202391, SRX23202390, SRX23202389, SRX23177012, SRX23177011, SRX23177010, SRX23177009, SRX23177008, SRX23177007, SRX23177006, SRX23177005, SRX23077861, SRX23077860, SRX23077859, SRX23077858, SRX23077857, SRX23077856, SRX23077855, SRX23077854, SRX23077853, SRX23077852, SRX23077851, SRX23077850, SRX23077849, SRX23077848, SRX23077847, SRX23077846, SRX23077845, SRX23077844, SRX23077843, SRX23077842, SRX23077841, SRX23076723, SRX23076722, SRX23076721, SRX23076720, SRX23076712, SRX23076701, SRX23076698, SRX23076697, SRX23076696\n"
          ]
        },
        {
          "output_type": "stream",
          "name": "stderr",
          "text": [
            "\n"
          ]
        }
      ]
    },
    {
      "cell_type": "markdown",
      "source": [
        "## Viewing the metadata (optional)"
      ],
      "metadata": {
        "id": "0YAlIUzxha32"
      }
    },
    {
      "cell_type": "code",
      "source": [
        "db = SRAweb()\n",
        "# Step 3: Viewing the data\n",
        "def view_srx_metadata(species_srx_map):\n",
        "    all_species_metadata = {}\n",
        "\n",
        "    for species, srx_ids in species_srx_map.items():\n",
        "        list_ids = list(srx_ids)\n",
        "        print(f\"Processing {species} with {len(list_ids)} SRX IDs...\")\n",
        "\n",
        "        df = db.sra_metadata(list_ids)\n",
        "\n",
        "        all_species_metadata[species] = df\n",
        "\n",
        "    return all_species_metadata\n",
        "\n",
        "# Call the function and store\n",
        "all_species_metadata = view_srx_metadata(species_srx_map)\n",
        "\n",
        "print(all_species_metadata['Homo sapiens'].head(5))"
      ],
      "metadata": {
        "colab": {
          "base_uri": "https://localhost:8080/"
        },
        "id": "SNE9IF-JXky7",
        "outputId": "98d89c02-9822-440f-a83c-c42a30e1eb28"
      },
      "execution_count": 7,
      "outputs": [
        {
          "output_type": "stream",
          "name": "stdout",
          "text": [
            "Processing Chlamydomonas reinhardtii with 50 SRX IDs...\n",
            "Processing Ostreococcus tauri with 50 SRX IDs...\n",
            "Processing Cyanidioschyzon merolae with 2 SRX IDs...\n",
            "Processing Homo sapiens with 50 SRX IDs...\n",
            "Processing Saccharomyces cerevisiae with 50 SRX IDs...\n",
            "   study_accession                                study_title  \\\n",
            "6        SRP484908  Human Diabetic Kidney Disease cell models   \n",
            "7        SRP484908  Human Diabetic Kidney Disease cell models   \n",
            "8        SRP484908  Human Diabetic Kidney Disease cell models   \n",
            "9        SRP484908  Human Diabetic Kidney Disease cell models   \n",
            "10       SRP484908  Human Diabetic Kidney Disease cell models   \n",
            "\n",
            "   experiment_accession               experiment_title  \\\n",
            "6           SRX23334571           PT34_IR_Basal_081217   \n",
            "7           SRX23334570   ABN__InsulinResistant_211217   \n",
            "8           SRX23334569  PT34__InsulinResistant_200218   \n",
            "9           SRX23334568  PT34__InsulinResistant_160218   \n",
            "10          SRX23334567  PT34__InsulinResistant_020218   \n",
            "\n",
            "                  experiment_desc organism_taxid organism_name  \\\n",
            "6            PT34_IR_Basal_081217           9606  Homo sapiens   \n",
            "7    ABN__InsulinResistant_211217           9606  Homo sapiens   \n",
            "8   PT34__InsulinResistant_200218           9606  Homo sapiens   \n",
            "9   PT34__InsulinResistant_160218           9606  Homo sapiens   \n",
            "10  PT34__InsulinResistant_020218           9606  Homo sapiens   \n",
            "\n",
            "                         library_name library_strategy  library_source  ...  \\\n",
            "6            PT34_IR_Basal_GTG_IMI_27          RNA-Seq  TRANSCRIPTOMIC  ...   \n",
            "7    ABN__InsulinResistant_GTG_IMI_74          RNA-Seq  TRANSCRIPTOMIC  ...   \n",
            "8   PT34__InsulinResistant_GTG_IMI_42          RNA-Seq  TRANSCRIPTOMIC  ...   \n",
            "9   PT34__InsulinResistant_GTG_IMI_38          RNA-Seq  TRANSCRIPTOMIC  ...   \n",
            "10  PT34__InsulinResistant_GTG_IMI_34          RNA-Seq  TRANSCRIPTOMIC  ...   \n",
            "\n",
            "       biosample   bioproject           instrument     instrument_model  \\\n",
            "6   SAMN39254789  PRJNA905899  Illumina HiSeq 4000  Illumina HiSeq 4000   \n",
            "7   SAMN39254726  PRJNA905899  Illumina HiSeq 4000  Illumina HiSeq 4000   \n",
            "8   SAMN39254788  PRJNA905899  Illumina HiSeq 4000  Illumina HiSeq 4000   \n",
            "9   SAMN39254787  PRJNA905899  Illumina HiSeq 4000  Illumina HiSeq 4000   \n",
            "10  SAMN39254786  PRJNA905899  Illumina HiSeq 4000  Illumina HiSeq 4000   \n",
            "\n",
            "   instrument_model_desc total_spots  total_size run_accession  \\\n",
            "6               ILLUMINA    39766774  2493491828   SRR27666603   \n",
            "7               ILLUMINA    31512317  2004733742   SRR27666604   \n",
            "8               ILLUMINA    37581049  2394843231   SRR27666605   \n",
            "9               ILLUMINA    32144256  2056462132   SRR27666606   \n",
            "10              ILLUMINA    37330030  2382178804   SRR27666607   \n",
            "\n",
            "   run_total_spots run_total_bases  \n",
            "6         39766774      6044549648  \n",
            "7         31512317      4789872184  \n",
            "8         37581049      5712319448  \n",
            "9         32144256      4885926912  \n",
            "10        37330030      5674164560  \n",
            "\n",
            "[5 rows x 24 columns]\n"
          ]
        }
      ]
    },
    {
      "cell_type": "markdown",
      "source": [
        "Tests if the fasterq is working (I had many issues). You will need the sra-toolkit downloaded for this because fasterq-dump is part of the SRA Toolkit, not installed by default in Google Colab."
      ],
      "metadata": {
        "id": "IHhVQBZS1qyr"
      }
    },
    {
      "cell_type": "code",
      "source": [
        "!apt-get install sra-toolkit\n",
        "!fasterq-dump DRR522926 --outdir '/content/drive/My Drive/SRA_downloads'"
      ],
      "metadata": {
        "id": "wYstMoOp1nKi"
      },
      "execution_count": null,
      "outputs": []
    },
    {
      "cell_type": "markdown",
      "source": [
        "# Automating downoads:\n",
        "\n",
        "You will need to authorise your drive access before running this cell or else you'll encounter credential permission errors.\n",
        "\n",
        "I have limited the below to 5 downloads per species - Someone mentioned we are looking to work with 50 per species - but I have limited due to the time downloads take.\n",
        "\n",
        "**NOTE** We also need to check here if the amount of runs that are returned by each srx_ids could ever end up being more than 1 run per experiment.\n",
        "\n",
        "Currently we are only getting 1 per experiment (see/uncomment print at the end of step 2 - output downloads per SRR accesion id - section).\n",
        "\n"
      ],
      "metadata": {
        "id": "ewTiM309b7kH"
      }
    },
    {
      "cell_type": "code",
      "source": [
        "# Step 4: Download the Data\n",
        "import subprocess\n",
        "import os\n",
        "from google.colab import drive\n",
        "drive.mount('/content/drive')\n",
        "\n",
        "# Was having download location issues (have modified to raw string\n",
        "# format even though it shouldn't really be an issue...)\n",
        "output_directory = r'/content/drive/My Drive/SRA_downloads'\n",
        "\n",
        "\n",
        "# species_srx_map = dict\n",
        "db = SRAweb()\n",
        "\n",
        "def download_sra_data(species_srx_map, limit=5):\n",
        "    for species, srx_ids in species_srx_map.items():\n",
        "        print(f\"Downloading data for {species}...\")\n",
        "        download_count = 0\n",
        "\n",
        "        for srx_id in srx_ids:\n",
        "            if download_count >= limit:\n",
        "                break  # Stop after 5 downloads\n",
        "\n",
        "            try:\n",
        "                # Fetch metadata for the SRX ID\n",
        "                df = db.sra_metadata([srx_id])\n",
        "\n",
        "                # Extract SRR IDs from the metadata\n",
        "                srr_ids = df['run_accession'].unique()\n",
        "\n",
        "                for srr_id in srr_ids:\n",
        "                    # Download using the fasterq-dump command for each SRR ID\n",
        "                    !fasterq-dump {srr_id} --outdir '/content/drive/My\\ Drive/SRA_downloads'\n",
        "\n",
        "                    # Uncomment the below if you want these to actually download\n",
        "                    command = ['fasterq-dump', srr_id, '--outdir', output_directory, '--gzip']\n",
        "                    subprocess.run(command, check=True)\n",
        "                    print(f\"For srx_id: {srx_id}, srr_id: {srr_id} downloaded!\")\n",
        "\n",
        "                    # Or OS approach - construct the command as a single string & execute\n",
        "                    # command = f\"fasterq-dump {srr_id} --outdir '{output_directory}' --gzip\"\n",
        "                    # os.system(command)\n",
        "\n",
        "                    download_count += 1\n",
        "                    if download_count >= limit:\n",
        "                        break\n",
        "\n",
        "            except Exception as e:\n",
        "                print(f\"Error downloading data for {species}, SRX ID {srx_id}: {e}\")\n",
        "\n",
        "download_sra_data(species_srx_map)"
      ],
      "metadata": {
        "colab": {
          "base_uri": "https://localhost:8080/",
          "height": 609
        },
        "id": "pUkESE7ShYlN",
        "outputId": "37b91131-c939-4146-e3df-0c5aa69e3464"
      },
      "execution_count": 20,
      "outputs": [
        {
          "output_type": "stream",
          "name": "stdout",
          "text": [
            "Drive already mounted at /content/drive; to attempt to forcibly remount, call drive.mount(\"/content/drive\", force_remount=True).\n",
            "Downloading data for Chlamydomonas reinhardtii...\n",
            "spots read      : 6,627,716\n",
            "reads read      : 13,255,432\n",
            "reads written   : 13,255,432\n",
            "Error downloading data for Chlamydomonas reinhardtii, SRX ID DRX506818: Command '['fasterq-dump', 'DRR522932', '--outdir', '/content/drive/My Drive/SRA_downloads', '--gzip']' returned non-zero exit status 64.\n",
            "spots read      : 6,620,557\n",
            "reads read      : 13,241,114\n",
            "reads written   : 13,241,114\n",
            "Error downloading data for Chlamydomonas reinhardtii, SRX ID DRX506817: Command '['fasterq-dump', 'DRR522931', '--outdir', '/content/drive/My Drive/SRA_downloads', '--gzip']' returned non-zero exit status 64.\n",
            "fasterq-dump was killed (signal 2 SIGINT)\n",
            "Error downloading data for Chlamydomonas reinhardtii, SRX ID DRX506816: Command '['fasterq-dump', 'DRR522930', '--outdir', '/content/drive/My Drive/SRA_downloads', '--gzip']' returned non-zero exit status 64.\n"
          ]
        },
        {
          "output_type": "error",
          "ename": "KeyboardInterrupt",
          "evalue": "",
          "traceback": [
            "\u001b[0;31m---------------------------------------------------------------------------\u001b[0m",
            "\u001b[0;31mKeyboardInterrupt\u001b[0m                         Traceback (most recent call last)",
            "\u001b[0;32m<ipython-input-20-3a6662427dd1>\u001b[0m in \u001b[0;36m<cell line: 43>\u001b[0;34m()\u001b[0m\n\u001b[1;32m     41\u001b[0m \u001b[0;34m\u001b[0m\u001b[0m\n\u001b[1;32m     42\u001b[0m \u001b[0;34m\u001b[0m\u001b[0m\n\u001b[0;32m---> 43\u001b[0;31m \u001b[0mdownload_sra_data\u001b[0m\u001b[0;34m(\u001b[0m\u001b[0mspecies_srx_map\u001b[0m\u001b[0;34m)\u001b[0m\u001b[0;34m\u001b[0m\u001b[0;34m\u001b[0m\u001b[0m\n\u001b[0m",
            "\u001b[0;32m<ipython-input-20-3a6662427dd1>\u001b[0m in \u001b[0;36mdownload_sra_data\u001b[0;34m(species_srx_map)\u001b[0m\n\u001b[1;32m     17\u001b[0m             \u001b[0;32mtry\u001b[0m\u001b[0;34m:\u001b[0m\u001b[0;34m\u001b[0m\u001b[0;34m\u001b[0m\u001b[0m\n\u001b[1;32m     18\u001b[0m                 \u001b[0;31m# Fetch metadata for the SRX ID\u001b[0m\u001b[0;34m\u001b[0m\u001b[0;34m\u001b[0m\u001b[0m\n\u001b[0;32m---> 19\u001b[0;31m                 \u001b[0mdf\u001b[0m \u001b[0;34m=\u001b[0m \u001b[0mdb\u001b[0m\u001b[0;34m.\u001b[0m\u001b[0msra_metadata\u001b[0m\u001b[0;34m(\u001b[0m\u001b[0;34m[\u001b[0m\u001b[0msrx_id\u001b[0m\u001b[0;34m]\u001b[0m\u001b[0;34m)\u001b[0m\u001b[0;34m\u001b[0m\u001b[0;34m\u001b[0m\u001b[0m\n\u001b[0m\u001b[1;32m     20\u001b[0m \u001b[0;34m\u001b[0m\u001b[0m\n\u001b[1;32m     21\u001b[0m                 \u001b[0;31m# Extract SRR IDs from the metadata\u001b[0m\u001b[0;34m\u001b[0m\u001b[0;34m\u001b[0m\u001b[0m\n",
            "\u001b[0;32m/usr/local/lib/python3.10/dist-packages/pysradb/sraweb.py\u001b[0m in \u001b[0;36msra_metadata\u001b[0;34m(self, srp, sample_attribute, detailed, expand_sample_attributes, output_read_lengths, **kwargs)\u001b[0m\n\u001b[1;32m    413\u001b[0m         \u001b[0;34m**\u001b[0m\u001b[0mkwargs\u001b[0m\u001b[0;34m\u001b[0m\u001b[0;34m\u001b[0m\u001b[0m\n\u001b[1;32m    414\u001b[0m     ):\n\u001b[0;32m--> 415\u001b[0;31m         \u001b[0mesummary_result\u001b[0m \u001b[0;34m=\u001b[0m \u001b[0mself\u001b[0m\u001b[0;34m.\u001b[0m\u001b[0mget_esummary_response\u001b[0m\u001b[0;34m(\u001b[0m\u001b[0;34m\"sra\"\u001b[0m\u001b[0;34m,\u001b[0m \u001b[0msrp\u001b[0m\u001b[0;34m)\u001b[0m\u001b[0;34m\u001b[0m\u001b[0;34m\u001b[0m\u001b[0m\n\u001b[0m\u001b[1;32m    416\u001b[0m         \u001b[0;32mtry\u001b[0m\u001b[0;34m:\u001b[0m\u001b[0;34m\u001b[0m\u001b[0;34m\u001b[0m\u001b[0m\n\u001b[1;32m    417\u001b[0m             \u001b[0muids\u001b[0m \u001b[0;34m=\u001b[0m \u001b[0mesummary_result\u001b[0m\u001b[0;34m[\u001b[0m\u001b[0;34m\"uids\"\u001b[0m\u001b[0;34m]\u001b[0m\u001b[0;34m\u001b[0m\u001b[0;34m\u001b[0m\u001b[0m\n",
            "\u001b[0;32m/usr/local/lib/python3.10/dist-packages/pysradb/sraweb.py\u001b[0m in \u001b[0;36mget_esummary_response\u001b[0;34m(self, db, term, usehistory)\u001b[0m\n\u001b[1;32m    296\u001b[0m             \u001b[0mpayload\u001b[0m \u001b[0;34m=\u001b[0m \u001b[0mOrderedDict\u001b[0m\u001b[0;34m(\u001b[0m\u001b[0mpayload\u001b[0m\u001b[0;34m)\u001b[0m\u001b[0;34m\u001b[0m\u001b[0;34m\u001b[0m\u001b[0m\n\u001b[1;32m    297\u001b[0m             \u001b[0mpayload\u001b[0m\u001b[0;34m[\u001b[0m\u001b[0;34m\"retstart\"\u001b[0m\u001b[0;34m]\u001b[0m \u001b[0;34m=\u001b[0m \u001b[0mretstart\u001b[0m\u001b[0;34m\u001b[0m\u001b[0;34m\u001b[0m\u001b[0m\n\u001b[0;32m--> 298\u001b[0;31m             request = requests.get(\n\u001b[0m\u001b[1;32m    299\u001b[0m                 \u001b[0mself\u001b[0m\u001b[0;34m.\u001b[0m\u001b[0mbase_url\u001b[0m\u001b[0;34m[\u001b[0m\u001b[0;34m\"esummary\"\u001b[0m\u001b[0;34m]\u001b[0m\u001b[0;34m,\u001b[0m \u001b[0mparams\u001b[0m\u001b[0;34m=\u001b[0m\u001b[0mOrderedDict\u001b[0m\u001b[0;34m(\u001b[0m\u001b[0mpayload\u001b[0m\u001b[0;34m)\u001b[0m\u001b[0;34m\u001b[0m\u001b[0;34m\u001b[0m\u001b[0m\n\u001b[1;32m    300\u001b[0m             )\n",
            "\u001b[0;32m/usr/local/lib/python3.10/dist-packages/requests/api.py\u001b[0m in \u001b[0;36mget\u001b[0;34m(url, params, **kwargs)\u001b[0m\n\u001b[1;32m     71\u001b[0m     \"\"\"\n\u001b[1;32m     72\u001b[0m \u001b[0;34m\u001b[0m\u001b[0m\n\u001b[0;32m---> 73\u001b[0;31m     \u001b[0;32mreturn\u001b[0m \u001b[0mrequest\u001b[0m\u001b[0;34m(\u001b[0m\u001b[0;34m\"get\"\u001b[0m\u001b[0;34m,\u001b[0m \u001b[0murl\u001b[0m\u001b[0;34m,\u001b[0m \u001b[0mparams\u001b[0m\u001b[0;34m=\u001b[0m\u001b[0mparams\u001b[0m\u001b[0;34m,\u001b[0m \u001b[0;34m**\u001b[0m\u001b[0mkwargs\u001b[0m\u001b[0;34m)\u001b[0m\u001b[0;34m\u001b[0m\u001b[0;34m\u001b[0m\u001b[0m\n\u001b[0m\u001b[1;32m     74\u001b[0m \u001b[0;34m\u001b[0m\u001b[0m\n\u001b[1;32m     75\u001b[0m \u001b[0;34m\u001b[0m\u001b[0m\n",
            "\u001b[0;32m/usr/local/lib/python3.10/dist-packages/requests/api.py\u001b[0m in \u001b[0;36mrequest\u001b[0;34m(method, url, **kwargs)\u001b[0m\n\u001b[1;32m     57\u001b[0m     \u001b[0;31m# cases, and look like a memory leak in others.\u001b[0m\u001b[0;34m\u001b[0m\u001b[0;34m\u001b[0m\u001b[0m\n\u001b[1;32m     58\u001b[0m     \u001b[0;32mwith\u001b[0m \u001b[0msessions\u001b[0m\u001b[0;34m.\u001b[0m\u001b[0mSession\u001b[0m\u001b[0;34m(\u001b[0m\u001b[0;34m)\u001b[0m \u001b[0;32mas\u001b[0m \u001b[0msession\u001b[0m\u001b[0;34m:\u001b[0m\u001b[0;34m\u001b[0m\u001b[0;34m\u001b[0m\u001b[0m\n\u001b[0;32m---> 59\u001b[0;31m         \u001b[0;32mreturn\u001b[0m \u001b[0msession\u001b[0m\u001b[0;34m.\u001b[0m\u001b[0mrequest\u001b[0m\u001b[0;34m(\u001b[0m\u001b[0mmethod\u001b[0m\u001b[0;34m=\u001b[0m\u001b[0mmethod\u001b[0m\u001b[0;34m,\u001b[0m \u001b[0murl\u001b[0m\u001b[0;34m=\u001b[0m\u001b[0murl\u001b[0m\u001b[0;34m,\u001b[0m \u001b[0;34m**\u001b[0m\u001b[0mkwargs\u001b[0m\u001b[0;34m)\u001b[0m\u001b[0;34m\u001b[0m\u001b[0;34m\u001b[0m\u001b[0m\n\u001b[0m\u001b[1;32m     60\u001b[0m \u001b[0;34m\u001b[0m\u001b[0m\n\u001b[1;32m     61\u001b[0m \u001b[0;34m\u001b[0m\u001b[0m\n",
            "\u001b[0;32m/usr/local/lib/python3.10/dist-packages/requests/sessions.py\u001b[0m in \u001b[0;36mrequest\u001b[0;34m(self, method, url, params, data, headers, cookies, files, auth, timeout, allow_redirects, proxies, hooks, stream, verify, cert, json)\u001b[0m\n\u001b[1;32m    587\u001b[0m         }\n\u001b[1;32m    588\u001b[0m         \u001b[0msend_kwargs\u001b[0m\u001b[0;34m.\u001b[0m\u001b[0mupdate\u001b[0m\u001b[0;34m(\u001b[0m\u001b[0msettings\u001b[0m\u001b[0;34m)\u001b[0m\u001b[0;34m\u001b[0m\u001b[0;34m\u001b[0m\u001b[0m\n\u001b[0;32m--> 589\u001b[0;31m         \u001b[0mresp\u001b[0m \u001b[0;34m=\u001b[0m \u001b[0mself\u001b[0m\u001b[0;34m.\u001b[0m\u001b[0msend\u001b[0m\u001b[0;34m(\u001b[0m\u001b[0mprep\u001b[0m\u001b[0;34m,\u001b[0m \u001b[0;34m**\u001b[0m\u001b[0msend_kwargs\u001b[0m\u001b[0;34m)\u001b[0m\u001b[0;34m\u001b[0m\u001b[0;34m\u001b[0m\u001b[0m\n\u001b[0m\u001b[1;32m    590\u001b[0m \u001b[0;34m\u001b[0m\u001b[0m\n\u001b[1;32m    591\u001b[0m         \u001b[0;32mreturn\u001b[0m \u001b[0mresp\u001b[0m\u001b[0;34m\u001b[0m\u001b[0;34m\u001b[0m\u001b[0m\n",
            "\u001b[0;32m/usr/local/lib/python3.10/dist-packages/requests/sessions.py\u001b[0m in \u001b[0;36msend\u001b[0;34m(self, request, **kwargs)\u001b[0m\n\u001b[1;32m    701\u001b[0m \u001b[0;34m\u001b[0m\u001b[0m\n\u001b[1;32m    702\u001b[0m         \u001b[0;31m# Send the request\u001b[0m\u001b[0;34m\u001b[0m\u001b[0;34m\u001b[0m\u001b[0m\n\u001b[0;32m--> 703\u001b[0;31m         \u001b[0mr\u001b[0m \u001b[0;34m=\u001b[0m \u001b[0madapter\u001b[0m\u001b[0;34m.\u001b[0m\u001b[0msend\u001b[0m\u001b[0;34m(\u001b[0m\u001b[0mrequest\u001b[0m\u001b[0;34m,\u001b[0m \u001b[0;34m**\u001b[0m\u001b[0mkwargs\u001b[0m\u001b[0;34m)\u001b[0m\u001b[0;34m\u001b[0m\u001b[0;34m\u001b[0m\u001b[0m\n\u001b[0m\u001b[1;32m    704\u001b[0m \u001b[0;34m\u001b[0m\u001b[0m\n\u001b[1;32m    705\u001b[0m         \u001b[0;31m# Total elapsed time of the request (approximately)\u001b[0m\u001b[0;34m\u001b[0m\u001b[0;34m\u001b[0m\u001b[0m\n",
            "\u001b[0;32m/usr/local/lib/python3.10/dist-packages/requests/adapters.py\u001b[0m in \u001b[0;36msend\u001b[0;34m(self, request, stream, timeout, verify, cert, proxies)\u001b[0m\n\u001b[1;32m    484\u001b[0m \u001b[0;34m\u001b[0m\u001b[0m\n\u001b[1;32m    485\u001b[0m         \u001b[0;32mtry\u001b[0m\u001b[0;34m:\u001b[0m\u001b[0;34m\u001b[0m\u001b[0;34m\u001b[0m\u001b[0m\n\u001b[0;32m--> 486\u001b[0;31m             resp = conn.urlopen(\n\u001b[0m\u001b[1;32m    487\u001b[0m                 \u001b[0mmethod\u001b[0m\u001b[0;34m=\u001b[0m\u001b[0mrequest\u001b[0m\u001b[0;34m.\u001b[0m\u001b[0mmethod\u001b[0m\u001b[0;34m,\u001b[0m\u001b[0;34m\u001b[0m\u001b[0;34m\u001b[0m\u001b[0m\n\u001b[1;32m    488\u001b[0m                 \u001b[0murl\u001b[0m\u001b[0;34m=\u001b[0m\u001b[0murl\u001b[0m\u001b[0;34m,\u001b[0m\u001b[0;34m\u001b[0m\u001b[0;34m\u001b[0m\u001b[0m\n",
            "\u001b[0;32m/usr/local/lib/python3.10/dist-packages/urllib3/connectionpool.py\u001b[0m in \u001b[0;36murlopen\u001b[0;34m(self, method, url, body, headers, retries, redirect, assert_same_host, timeout, pool_timeout, release_conn, chunked, body_pos, preload_content, decode_content, **response_kw)\u001b[0m\n\u001b[1;32m    789\u001b[0m \u001b[0;34m\u001b[0m\u001b[0m\n\u001b[1;32m    790\u001b[0m             \u001b[0;31m# Make the request on the HTTPConnection object\u001b[0m\u001b[0;34m\u001b[0m\u001b[0;34m\u001b[0m\u001b[0m\n\u001b[0;32m--> 791\u001b[0;31m             response = self._make_request(\n\u001b[0m\u001b[1;32m    792\u001b[0m                 \u001b[0mconn\u001b[0m\u001b[0;34m,\u001b[0m\u001b[0;34m\u001b[0m\u001b[0;34m\u001b[0m\u001b[0m\n\u001b[1;32m    793\u001b[0m                 \u001b[0mmethod\u001b[0m\u001b[0;34m,\u001b[0m\u001b[0;34m\u001b[0m\u001b[0;34m\u001b[0m\u001b[0m\n",
            "\u001b[0;32m/usr/local/lib/python3.10/dist-packages/urllib3/connectionpool.py\u001b[0m in \u001b[0;36m_make_request\u001b[0;34m(self, conn, method, url, body, headers, retries, timeout, chunked, response_conn, preload_content, decode_content, enforce_content_length)\u001b[0m\n\u001b[1;32m    466\u001b[0m             \u001b[0;31m# Trigger any extra validation we need to do.\u001b[0m\u001b[0;34m\u001b[0m\u001b[0;34m\u001b[0m\u001b[0m\n\u001b[1;32m    467\u001b[0m             \u001b[0;32mtry\u001b[0m\u001b[0;34m:\u001b[0m\u001b[0;34m\u001b[0m\u001b[0;34m\u001b[0m\u001b[0m\n\u001b[0;32m--> 468\u001b[0;31m                 \u001b[0mself\u001b[0m\u001b[0;34m.\u001b[0m\u001b[0m_validate_conn\u001b[0m\u001b[0;34m(\u001b[0m\u001b[0mconn\u001b[0m\u001b[0;34m)\u001b[0m\u001b[0;34m\u001b[0m\u001b[0;34m\u001b[0m\u001b[0m\n\u001b[0m\u001b[1;32m    469\u001b[0m             \u001b[0;32mexcept\u001b[0m \u001b[0;34m(\u001b[0m\u001b[0mSocketTimeout\u001b[0m\u001b[0;34m,\u001b[0m \u001b[0mBaseSSLError\u001b[0m\u001b[0;34m)\u001b[0m \u001b[0;32mas\u001b[0m \u001b[0me\u001b[0m\u001b[0;34m:\u001b[0m\u001b[0;34m\u001b[0m\u001b[0;34m\u001b[0m\u001b[0m\n\u001b[1;32m    470\u001b[0m                 \u001b[0mself\u001b[0m\u001b[0;34m.\u001b[0m\u001b[0m_raise_timeout\u001b[0m\u001b[0;34m(\u001b[0m\u001b[0merr\u001b[0m\u001b[0;34m=\u001b[0m\u001b[0me\u001b[0m\u001b[0;34m,\u001b[0m \u001b[0murl\u001b[0m\u001b[0;34m=\u001b[0m\u001b[0murl\u001b[0m\u001b[0;34m,\u001b[0m \u001b[0mtimeout_value\u001b[0m\u001b[0;34m=\u001b[0m\u001b[0mconn\u001b[0m\u001b[0;34m.\u001b[0m\u001b[0mtimeout\u001b[0m\u001b[0;34m)\u001b[0m\u001b[0;34m\u001b[0m\u001b[0;34m\u001b[0m\u001b[0m\n",
            "\u001b[0;32m/usr/local/lib/python3.10/dist-packages/urllib3/connectionpool.py\u001b[0m in \u001b[0;36m_validate_conn\u001b[0;34m(self, conn)\u001b[0m\n\u001b[1;32m   1095\u001b[0m         \u001b[0;31m# Force connect early to allow us to validate the connection.\u001b[0m\u001b[0;34m\u001b[0m\u001b[0;34m\u001b[0m\u001b[0m\n\u001b[1;32m   1096\u001b[0m         \u001b[0;32mif\u001b[0m \u001b[0mconn\u001b[0m\u001b[0;34m.\u001b[0m\u001b[0mis_closed\u001b[0m\u001b[0;34m:\u001b[0m\u001b[0;34m\u001b[0m\u001b[0;34m\u001b[0m\u001b[0m\n\u001b[0;32m-> 1097\u001b[0;31m             \u001b[0mconn\u001b[0m\u001b[0;34m.\u001b[0m\u001b[0mconnect\u001b[0m\u001b[0;34m(\u001b[0m\u001b[0;34m)\u001b[0m\u001b[0;34m\u001b[0m\u001b[0;34m\u001b[0m\u001b[0m\n\u001b[0m\u001b[1;32m   1098\u001b[0m \u001b[0;34m\u001b[0m\u001b[0m\n\u001b[1;32m   1099\u001b[0m         \u001b[0;32mif\u001b[0m \u001b[0;32mnot\u001b[0m \u001b[0mconn\u001b[0m\u001b[0;34m.\u001b[0m\u001b[0mis_verified\u001b[0m\u001b[0;34m:\u001b[0m\u001b[0;34m\u001b[0m\u001b[0;34m\u001b[0m\u001b[0m\n",
            "\u001b[0;32m/usr/local/lib/python3.10/dist-packages/urllib3/connection.py\u001b[0m in \u001b[0;36mconnect\u001b[0;34m(self)\u001b[0m\n\u001b[1;32m    609\u001b[0m     \u001b[0;32mdef\u001b[0m \u001b[0mconnect\u001b[0m\u001b[0;34m(\u001b[0m\u001b[0mself\u001b[0m\u001b[0;34m)\u001b[0m \u001b[0;34m->\u001b[0m \u001b[0;32mNone\u001b[0m\u001b[0;34m:\u001b[0m\u001b[0;34m\u001b[0m\u001b[0;34m\u001b[0m\u001b[0m\n\u001b[1;32m    610\u001b[0m         \u001b[0msock\u001b[0m\u001b[0;34m:\u001b[0m \u001b[0msocket\u001b[0m\u001b[0;34m.\u001b[0m\u001b[0msocket\u001b[0m \u001b[0;34m|\u001b[0m \u001b[0mssl\u001b[0m\u001b[0;34m.\u001b[0m\u001b[0mSSLSocket\u001b[0m\u001b[0;34m\u001b[0m\u001b[0;34m\u001b[0m\u001b[0m\n\u001b[0;32m--> 611\u001b[0;31m         \u001b[0mself\u001b[0m\u001b[0;34m.\u001b[0m\u001b[0msock\u001b[0m \u001b[0;34m=\u001b[0m \u001b[0msock\u001b[0m \u001b[0;34m=\u001b[0m \u001b[0mself\u001b[0m\u001b[0;34m.\u001b[0m\u001b[0m_new_conn\u001b[0m\u001b[0;34m(\u001b[0m\u001b[0;34m)\u001b[0m\u001b[0;34m\u001b[0m\u001b[0;34m\u001b[0m\u001b[0m\n\u001b[0m\u001b[1;32m    612\u001b[0m         \u001b[0mserver_hostname\u001b[0m\u001b[0;34m:\u001b[0m \u001b[0mstr\u001b[0m \u001b[0;34m=\u001b[0m \u001b[0mself\u001b[0m\u001b[0;34m.\u001b[0m\u001b[0mhost\u001b[0m\u001b[0;34m\u001b[0m\u001b[0;34m\u001b[0m\u001b[0m\n\u001b[1;32m    613\u001b[0m         \u001b[0mtls_in_tls\u001b[0m \u001b[0;34m=\u001b[0m \u001b[0;32mFalse\u001b[0m\u001b[0;34m\u001b[0m\u001b[0;34m\u001b[0m\u001b[0m\n",
            "\u001b[0;32m/usr/local/lib/python3.10/dist-packages/urllib3/connection.py\u001b[0m in \u001b[0;36m_new_conn\u001b[0;34m(self)\u001b[0m\n\u001b[1;32m    201\u001b[0m         \"\"\"\n\u001b[1;32m    202\u001b[0m         \u001b[0;32mtry\u001b[0m\u001b[0;34m:\u001b[0m\u001b[0;34m\u001b[0m\u001b[0;34m\u001b[0m\u001b[0m\n\u001b[0;32m--> 203\u001b[0;31m             sock = connection.create_connection(\n\u001b[0m\u001b[1;32m    204\u001b[0m                 \u001b[0;34m(\u001b[0m\u001b[0mself\u001b[0m\u001b[0;34m.\u001b[0m\u001b[0m_dns_host\u001b[0m\u001b[0;34m,\u001b[0m \u001b[0mself\u001b[0m\u001b[0;34m.\u001b[0m\u001b[0mport\u001b[0m\u001b[0;34m)\u001b[0m\u001b[0;34m,\u001b[0m\u001b[0;34m\u001b[0m\u001b[0;34m\u001b[0m\u001b[0m\n\u001b[1;32m    205\u001b[0m                 \u001b[0mself\u001b[0m\u001b[0;34m.\u001b[0m\u001b[0mtimeout\u001b[0m\u001b[0;34m,\u001b[0m\u001b[0;34m\u001b[0m\u001b[0;34m\u001b[0m\u001b[0m\n",
            "\u001b[0;32m/usr/local/lib/python3.10/dist-packages/urllib3/util/connection.py\u001b[0m in \u001b[0;36mcreate_connection\u001b[0;34m(address, timeout, source_address, socket_options)\u001b[0m\n\u001b[1;32m     58\u001b[0m         \u001b[0;32mraise\u001b[0m \u001b[0mLocationParseError\u001b[0m\u001b[0;34m(\u001b[0m\u001b[0;34mf\"'{host}', label empty or too long\"\u001b[0m\u001b[0;34m)\u001b[0m \u001b[0;32mfrom\u001b[0m \u001b[0;32mNone\u001b[0m\u001b[0;34m\u001b[0m\u001b[0;34m\u001b[0m\u001b[0m\n\u001b[1;32m     59\u001b[0m \u001b[0;34m\u001b[0m\u001b[0m\n\u001b[0;32m---> 60\u001b[0;31m     \u001b[0;32mfor\u001b[0m \u001b[0mres\u001b[0m \u001b[0;32min\u001b[0m \u001b[0msocket\u001b[0m\u001b[0;34m.\u001b[0m\u001b[0mgetaddrinfo\u001b[0m\u001b[0;34m(\u001b[0m\u001b[0mhost\u001b[0m\u001b[0;34m,\u001b[0m \u001b[0mport\u001b[0m\u001b[0;34m,\u001b[0m \u001b[0mfamily\u001b[0m\u001b[0;34m,\u001b[0m \u001b[0msocket\u001b[0m\u001b[0;34m.\u001b[0m\u001b[0mSOCK_STREAM\u001b[0m\u001b[0;34m)\u001b[0m\u001b[0;34m:\u001b[0m\u001b[0;34m\u001b[0m\u001b[0;34m\u001b[0m\u001b[0m\n\u001b[0m\u001b[1;32m     61\u001b[0m         \u001b[0maf\u001b[0m\u001b[0;34m,\u001b[0m \u001b[0msocktype\u001b[0m\u001b[0;34m,\u001b[0m \u001b[0mproto\u001b[0m\u001b[0;34m,\u001b[0m \u001b[0mcanonname\u001b[0m\u001b[0;34m,\u001b[0m \u001b[0msa\u001b[0m \u001b[0;34m=\u001b[0m \u001b[0mres\u001b[0m\u001b[0;34m\u001b[0m\u001b[0;34m\u001b[0m\u001b[0m\n\u001b[1;32m     62\u001b[0m         \u001b[0msock\u001b[0m \u001b[0;34m=\u001b[0m \u001b[0;32mNone\u001b[0m\u001b[0;34m\u001b[0m\u001b[0;34m\u001b[0m\u001b[0m\n",
            "\u001b[0;32m/usr/lib/python3.10/socket.py\u001b[0m in \u001b[0;36mgetaddrinfo\u001b[0;34m(host, port, family, type, proto, flags)\u001b[0m\n\u001b[1;32m    953\u001b[0m     \u001b[0;31m# and socket type values to enum constants.\u001b[0m\u001b[0;34m\u001b[0m\u001b[0;34m\u001b[0m\u001b[0m\n\u001b[1;32m    954\u001b[0m     \u001b[0maddrlist\u001b[0m \u001b[0;34m=\u001b[0m \u001b[0;34m[\u001b[0m\u001b[0;34m]\u001b[0m\u001b[0;34m\u001b[0m\u001b[0;34m\u001b[0m\u001b[0m\n\u001b[0;32m--> 955\u001b[0;31m     \u001b[0;32mfor\u001b[0m \u001b[0mres\u001b[0m \u001b[0;32min\u001b[0m \u001b[0m_socket\u001b[0m\u001b[0;34m.\u001b[0m\u001b[0mgetaddrinfo\u001b[0m\u001b[0;34m(\u001b[0m\u001b[0mhost\u001b[0m\u001b[0;34m,\u001b[0m \u001b[0mport\u001b[0m\u001b[0;34m,\u001b[0m \u001b[0mfamily\u001b[0m\u001b[0;34m,\u001b[0m \u001b[0mtype\u001b[0m\u001b[0;34m,\u001b[0m \u001b[0mproto\u001b[0m\u001b[0;34m,\u001b[0m \u001b[0mflags\u001b[0m\u001b[0;34m)\u001b[0m\u001b[0;34m:\u001b[0m\u001b[0;34m\u001b[0m\u001b[0;34m\u001b[0m\u001b[0m\n\u001b[0m\u001b[1;32m    956\u001b[0m         \u001b[0maf\u001b[0m\u001b[0;34m,\u001b[0m \u001b[0msocktype\u001b[0m\u001b[0;34m,\u001b[0m \u001b[0mproto\u001b[0m\u001b[0;34m,\u001b[0m \u001b[0mcanonname\u001b[0m\u001b[0;34m,\u001b[0m \u001b[0msa\u001b[0m \u001b[0;34m=\u001b[0m \u001b[0mres\u001b[0m\u001b[0;34m\u001b[0m\u001b[0;34m\u001b[0m\u001b[0m\n\u001b[1;32m    957\u001b[0m         addrlist.append((_intenum_converter(af, AddressFamily),\n",
            "\u001b[0;31mKeyboardInterrupt\u001b[0m: "
          ]
        }
      ]
    },
    {
      "cell_type": "code",
      "source": [
        "#Unused Function: Retrieve SRX Accession IDs\n",
        "# def get_srx_accession_ids(df):\n",
        "#     if df is not None and not df.empty:\n",
        "#         try:\n",
        "#             return df['experiment_accession'].unique(), df\n",
        "#         except KeyError:\n",
        "#             print(f\"'experiment_accession' not found in DataFrame for {species}\")\n",
        "#             return [], df\n",
        "#     else:\n",
        "#         print(f\"No data found for {species}\")\n",
        "#         return [], df\n"
      ],
      "metadata": {
        "id": "KD6bFuuWbuCp"
      },
      "execution_count": null,
      "outputs": []
    }
  ]
}